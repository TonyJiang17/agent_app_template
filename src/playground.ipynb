{
 "cells": [
  {
   "cell_type": "code",
   "execution_count": 1,
   "id": "b5398bfe",
   "metadata": {},
   "outputs": [
    {
     "name": "stderr",
     "output_type": "stream",
     "text": [
      "/Users/tony/Desktop/coder.me/ai_apps/agent-service-toolkit/venv/lib/python3.11/site-packages/tqdm/auto.py:21: TqdmWarning: IProgress not found. Please update jupyter and ipywidgets. See https://ipywidgets.readthedocs.io/en/stable/user_install.html\n",
      "  from .autonotebook import tqdm as notebook_tqdm\n"
     ]
    }
   ],
   "source": [
    "from agents import DEFAULT_AGENT, get_agent, get_all_agent_info\n",
    "from langchain_core.messages import AnyMessage, HumanMessage"
   ]
  },
  {
   "cell_type": "code",
   "execution_count": 2,
   "id": "5e248362",
   "metadata": {},
   "outputs": [],
   "source": [
    "agent = get_agent(\"resource-agent\")"
   ]
  },
  {
   "cell_type": "code",
   "execution_count": 5,
   "id": "a72ccf03",
   "metadata": {},
   "outputs": [],
   "source": [
    "config = {\"configurable\": {\"thread_id\": \"1\"}}\n",
    "#config = {}\n",
    "user_input = \"Hi, I would like to create a new resource. The resource has the name: Test1, description: Test Resource description, asset: https://langchain-ai.github.io/langgraph/, resource_type = site\"\n"
   ]
  },
  {
   "cell_type": "code",
   "execution_count": 6,
   "id": "630b23a9",
   "metadata": {},
   "outputs": [
    {
     "name": "stdout",
     "output_type": "stream",
     "text": [
      "GROQ_API_KEY not set, skipping LlamaGuard\n",
      "GROQ_API_KEY not set, skipping LlamaGuard\n",
      "GROQ_API_KEY not set, skipping LlamaGuard\n",
      "content='The new resource with the requested details has been created successfully.' additional_kwargs={} response_metadata={'id': 'msg_01QS9VijPWpTePsBnaEXhx8j', 'model': 'claude-3-haiku-20240307', 'stop_reason': 'end_turn', 'stop_sequence': None, 'usage': {'cache_creation_input_tokens': 0, 'cache_read_input_tokens': 0, 'input_tokens': 728, 'output_tokens': 16}} id='run-e074a2c8-3a5d-4d7e-a3cd-4792c8fcc3cf-0' usage_metadata={'input_tokens': 728, 'output_tokens': 16, 'total_tokens': 744, 'input_token_details': {'cache_read': 0, 'cache_creation': 0}}\n"
     ]
    }
   ],
   "source": [
    "#response = await agent.ainvoke({\"messages\": [(\"user\", user_input)]}, config)\n",
    "response = await agent.ainvoke({\"messages\": [HumanMessage(content=user_input)]}, config)\n",
    "\n",
    "print(response[\"messages\"][-1])"
   ]
  },
  {
   "cell_type": "code",
   "execution_count": null,
   "id": "4ba22fab",
   "metadata": {},
   "outputs": [],
   "source": []
  }
 ],
 "metadata": {
  "kernelspec": {
   "display_name": "Python (myenv)",
   "language": "python",
   "name": "myenv"
  },
  "language_info": {
   "codemirror_mode": {
    "name": "ipython",
    "version": 3
   },
   "file_extension": ".py",
   "mimetype": "text/x-python",
   "name": "python",
   "nbconvert_exporter": "python",
   "pygments_lexer": "ipython3",
   "version": "3.11.3"
  }
 },
 "nbformat": 4,
 "nbformat_minor": 5
}
